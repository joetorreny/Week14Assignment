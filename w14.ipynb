{
 "cells": [
  {
   "cell_type": "markdown",
   "metadata": {},
   "source": [
    "Discussion"
   ]
  },
  {
   "cell_type": "markdown",
   "metadata": {},
   "source": [
    "I have chosen to talk about NY Times recommendation system. "
   ]
  },
  {
   "cell_type": "markdown",
   "metadata": {},
   "source": [
    "My scenario analysis for NY Times recommendation system:\n",
    "Q: Who are our target users?\n",
    "A: Our target users are the majority of the papulation that has access to the internet and use some kind of device (pc, mobile, tablet etc.). Our target users are not restricted only by USA population, a lot of traffic comes from abroad as well.\n",
    "Q:What are their key goals?\n",
    "A: To get the latest and most relevant news to them. It may wary from user to user basis, so our recommendation algorithm should take a lot of consideration into account, like: user cookie history, location, device type and all other information that is possible to gather from user browser. There are few edge cases where most relevant and “big” news are fit for everyone, e.g.: president election, national security questions etc.\n",
    "Q:How can we help them accomplish those goals?\n",
    "A: The news stories provided for the user should have both high quality and importance for him personally. These two factors are both important, since if the user will receive high quality articles that he is not interested he will not read them and won’t come back, same if we would reverse the roles: provide low quality but relevant articles. Main goals here would be to constantly improve recommendation engine and hire writing staff that are qualified. \n"
   ]
  },
  {
   "cell_type": "markdown",
   "metadata": {},
   "source": [
    "Reverse engineering recommendation engine:"
   ]
  },
  {
   "cell_type": "markdown",
   "metadata": {},
   "source": [
    "Looking at sports section I can see that there are 4 main information points for each article: \n",
    "1-Title\n",
    "2-Short description\n",
    "3-Time it was posted\n",
    "4-Author\n",
    "So my guess would be that these points heavily impact recommendation algorithm. Going deeper into sport section we can find grouping by specific sports. So my guess would be if I would read 10 articles on basketball then in my front page of NY Times I would receive mostly basketball news in sport section. I would also guess that search function impacts your personal statistic a lot, since the system will know exactly what were you looking for and will be able to give recommendations. \n"
   ]
  },
  {
   "cell_type": "markdown",
   "metadata": {},
   "source": [
    "Recommendations:"
   ]
  },
  {
   "cell_type": "markdown",
   "metadata": {},
   "source": [
    "I might help that each article would have few hash-tags attached to it so you would know some key information points immediately. "
   ]
  },
  {
   "cell_type": "code",
   "execution_count": null,
   "metadata": {
    "collapsed": true
   },
   "outputs": [],
   "source": []
  }
 ],
 "metadata": {
  "kernelspec": {
   "display_name": "Python 3",
   "language": "python",
   "name": "python3"
  },
  "language_info": {
   "codemirror_mode": {
    "name": "ipython",
    "version": 3
   },
   "file_extension": ".py",
   "mimetype": "text/x-python",
   "name": "python",
   "nbconvert_exporter": "python",
   "pygments_lexer": "ipython3",
   "version": "3.6.1"
  }
 },
 "nbformat": 4,
 "nbformat_minor": 2
}
